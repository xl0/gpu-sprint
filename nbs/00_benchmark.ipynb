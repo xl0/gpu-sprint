{
 "cells": [
  {
   "cell_type": "markdown",
   "metadata": {},
   "source": [
    "# Benchmark\n"
   ]
  },
  {
   "cell_type": "code",
   "execution_count": null,
   "metadata": {},
   "outputs": [],
   "source": [
    "#| default_exp benchmark"
   ]
  },
  {
   "cell_type": "code",
   "execution_count": null,
   "metadata": {},
   "outputs": [],
   "source": [
    "#| hide\n",
    "from nbdev.showdoc import *"
   ]
  },
  {
   "cell_type": "code",
   "execution_count": null,
   "metadata": {},
   "outputs": [],
   "source": [
    "# |export\n",
    "# |hide\n",
    "import time\n",
    "\n",
    "from itertools import count\n",
    "import torch\n",
    "from torch import nn\n",
    "from torch.nn import functional as F\n",
    "from torch.cuda.amp.autocast_mode import autocast\n",
    "\n",
    "\n",
    "import timm\n",
    "from tqdm.auto import tqdm\n"
   ]
  },
  {
   "cell_type": "code",
   "execution_count": null,
   "metadata": {},
   "outputs": [],
   "source": [
    "# |export\n",
    "def benchmark(model: nn.Module, # Model to run\n",
    "                bs: int =32,    # Batch size\n",
    "                n_batches: int|None =None,  # Number of batches to run. `seconds` must be None\n",
    "                n_seconds: int|None =None,  # Number of seconds to run. `n_batches` must be None\n",
    "                fp16: int =False,           # Use Automatic Mixed Precision\n",
    "                size: int=224,              # Mock-train on this size \"images\"\n",
    "                dev: torch.device=torch.device(\"cuda:0\"),): # Device to run on\n",
    "\n",
    "    \"\"\"Mock-train the model on random noise input.\"\"\"\n",
    "\n",
    "    # There can be only one\n",
    "    assert not n_batches or not n_seconds\n",
    "    assert n_batches or n_seconds\n",
    "\n",
    "    torch.backends.cudnn.benchmark=True\n",
    "    assert torch.backends.cudnn.is_available()\n",
    "\n",
    "    model.to(dev)\n",
    "    optim = torch.optim.Adam(model.parameters(), lr=0.00001, weight_decay=0.00005)\n",
    "\n",
    "    X = torch.randn((bs, 3, size, size), device=dev)\n",
    "\n",
    "    # Assume the head is for ImageNet with 1000 catagories.\n",
    "    y = torch.randint(0, 999, (bs,), device=dev)\n",
    "\n",
    "    # Warm-up to run cudnn.benchmark first.\n",
    "    yhat = model(X)\n",
    "\n",
    "    loss = F.cross_entropy(yhat, y)\n",
    "    loss.backward()\n",
    "\n",
    "    optim.step()\n",
    "    optim.zero_grad(set_to_none=True)\n",
    "\n",
    "    if n_batches:\n",
    "        pbar = tqdm(total=n_batches, unit=\"Batch\")\n",
    "    else:\n",
    "        pbar = tqdm(total=n_seconds,\n",
    "            bar_format=\"{l_bar}{bar}| {n:.1f}/{total} s [{elapsed}<{remaining} {postfix}]\")\n",
    "\n",
    "    start_time = time.time()\n",
    "    last_time = start_time\n",
    "    for c in count():\n",
    "        with autocast(enabled=fp16):\n",
    "            yhat = model(X)\n",
    "            loss = F.cross_entropy(yhat, y)\n",
    "\n",
    "        loss.backward()\n",
    "        optim.step()\n",
    "        optim.zero_grad(set_to_none=True)\n",
    "\n",
    "        if n_batches:\n",
    "            pbar.update()\n",
    "            if c+1 == n_batches:\n",
    "                break\n",
    "\n",
    "        else:\n",
    "            now = time.time()\n",
    "            iter_time =  now - last_time\n",
    "            run_time = now - start_time\n",
    "            pbar.update(iter_time)\n",
    "            if run_time >= n_seconds:\n",
    "                break\n",
    "            last_time = now\n",
    "    pbar.close()\n",
    "\n",
    "    return ((time.time() - start_time), c*bs)\n"
   ]
  },
  {
   "cell_type": "code",
   "execution_count": null,
   "metadata": {},
   "outputs": [],
   "source": [
    "# |eval: false\n",
    "model = timm.create_model(\"resnet50\", pretrained=False)\n",
    "benchmark(model, n_seconds=10)"
   ]
  },
  {
   "cell_type": "code",
   "execution_count": null,
   "metadata": {},
   "outputs": [],
   "source": [
    "# |eval: false\n",
    "benchmark(model, n_batches=10)"
   ]
  },
  {
   "cell_type": "code",
   "execution_count": null,
   "metadata": {},
   "outputs": [],
   "source": [
    "#| hide\n",
    "import nbdev; nbdev.nbdev_export()"
   ]
  }
 ],
 "metadata": {
  "kernelspec": {
   "display_name": "Python 3.10.6 ('torch')",
   "language": "python",
   "name": "python3"
  }
 },
 "nbformat": 4,
 "nbformat_minor": 4
}
