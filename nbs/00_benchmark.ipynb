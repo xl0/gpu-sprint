{
 "cells": [
  {
   "cell_type": "markdown",
   "metadata": {},
   "source": [
    "# Benchmark\n",
    "\n",
    "> Deep Learning GPU benchmark\n",
    "\n"
   ]
  },
  {
   "cell_type": "markdown",
   "metadata": {},
   "source": [
    "Run a standard PyTorch training loop on an image classifier model of your choice with specified batch size and FP16/FP32. The result is the measure of throughput - number of trainig samples per second. It can be synced to [Wights & Biases](https://wandb.ai/xl0/ready-steady-go). See more in [CLI](cli.html)\n",
    "\n",
    "> Note: The data never leaves the GPU, and the throughput should be mostly independent of the rest of the system, at least for larger batch sizes."
   ]
  },
  {
   "cell_type": "code",
   "execution_count": null,
   "metadata": {},
   "outputs": [],
   "source": [
    "#| default_exp benchmark"
   ]
  },
  {
   "cell_type": "code",
   "execution_count": null,
   "metadata": {},
   "outputs": [],
   "source": [
    "#| hide\n",
    "from nbdev.showdoc import *"
   ]
  },
  {
   "cell_type": "code",
   "execution_count": null,
   "metadata": {},
   "outputs": [],
   "source": [
    "# |export\n",
    "# |hide\n",
    "import time\n",
    "\n",
    "from itertools import count\n",
    "import torch\n",
    "from torch import nn\n",
    "from torch.nn import functional as F\n",
    "from torch.cuda.amp.autocast_mode import autocast\n",
    "\n",
    "import timm\n",
    "from tqdm.auto import tqdm"
   ]
  },
  {
   "cell_type": "code",
   "execution_count": null,
   "metadata": {},
   "outputs": [],
   "source": [
    "# |exports\n",
    "\n",
    "def benchmark(model: nn.Module, # Model to run\n",
    "                bs: int =32,    # Batch size\n",
    "                n_batches: int =None,  # Number of batches to run. `seconds` must be None\n",
    "                n_seconds: int =None,  # Number of seconds to run. `n_batches` must be None\n",
    "                fp16: int =False,      # Use Automatic Mixed Precision\n",
    "                size: int=224,         # Mock-train on this size \"images\"\n",
    "                dev: torch.device=torch.device(\"cuda:0\"),): # Device to run on\n",
    "    \"\"\"Mock-train the model on random noise input.\"\"\"\n",
    "\n",
    "    # There can be only one\n",
    "    assert not n_batches or not n_seconds\n",
    "    assert n_batches or n_seconds\n",
    "\n",
    "\n",
    "    torch.backends.cudnn.benchmark=True\n",
    "    assert torch.backends.cudnn.is_available()\n",
    "\n",
    "    model.to(dev)\n",
    "    optim = torch.optim.SGD(model.parameters(), lr=0.00001, weight_decay=0.00005, momentum=0.1)\n",
    "\n",
    "    X = torch.randn((bs, 3, size, size), device=dev)\n",
    "    y = torch.randint(0, 999, (bs,), device=dev)\n",
    "\n",
    "    if n_batches:\n",
    "        pbar = tqdm(total=n_batches, unit=\"Batch\")\n",
    "    else:\n",
    "        pbar = tqdm(total=n_seconds,\n",
    "            bar_format=\"{l_bar}{bar}| {n:.1f}/{total} s [{elapsed}<{remaining} {postfix}]\")\n",
    "\n",
    "    start_time, last_time = 0, 0\n",
    "    for c in count():\n",
    "        with autocast(enabled=fp16):\n",
    "            yhat = model(X)\n",
    "            loss = F.cross_entropy(yhat, y)\n",
    "\n",
    "        loss.backward()\n",
    "        optim.step()\n",
    "        optim.zero_grad(set_to_none=True)\n",
    "\n",
    "        tt=time.time()\n",
    "\n",
    "        if not last_time:\n",
    "            pbar.write(\"Discarding the first iteration\")\n",
    "\n",
    "        if n_batches:\n",
    "            if c == 0:\n",
    "                last_time, start_time = tt, tt\n",
    "            else:\n",
    "                pbar.update()\n",
    "                # Note: c starts with 0, but we discard the first iteration\n",
    "                if c == n_batches:\n",
    "                    break\n",
    "        else:\n",
    "            if not last_time:\n",
    "                last_time, start_time = tt, tt\n",
    "            else:\n",
    "                iter_time =  tt - last_time\n",
    "                run_time = tt - start_time\n",
    "                pbar.update(iter_time)\n",
    "                if run_time >= n_seconds:\n",
    "                    break\n",
    "                last_time = tt\n",
    "    pbar.close()\n",
    "\n",
    "    return ((time.time() - start_time), c*bs)\n"
   ]
  },
  {
   "cell_type": "code",
   "execution_count": null,
   "metadata": {},
   "outputs": [
    {
     "data": {
      "application/vnd.jupyter.widget-view+json": {
       "model_id": "9be2571bc4684e7bbe807764db6cb8d6",
       "version_major": 2,
       "version_minor": 0
      },
      "text/plain": [
       "  0%|          | 0.0/10 s [00:00<? ]"
      ]
     },
     "metadata": {},
     "output_type": "display_data"
    },
    {
     "name": "stdout",
     "output_type": "stream",
     "text": [
      "Discarding the first iteration\n"
     ]
    },
    {
     "data": {
      "text/plain": [
       "(10.160361528396606, 832)"
      ]
     },
     "execution_count": null,
     "metadata": {},
     "output_type": "execute_result"
    }
   ],
   "source": [
    "# |eval: false\n",
    "model = timm.create_model(\"resnet50\", pretrained=False)\n",
    "benchmark(model, n_seconds=10)"
   ]
  },
  {
   "cell_type": "code",
   "execution_count": null,
   "metadata": {},
   "outputs": [
    {
     "data": {
      "application/vnd.jupyter.widget-view+json": {
       "model_id": "b5fddd7c49294809b2e43626f9925177",
       "version_major": 2,
       "version_minor": 0
      },
      "text/plain": [
       "  0%|          | 0/10 [00:00<?, ?Batch/s]"
      ]
     },
     "metadata": {},
     "output_type": "display_data"
    },
    {
     "name": "stdout",
     "output_type": "stream",
     "text": [
      "Discarding the first iteration\n"
     ]
    },
    {
     "data": {
      "text/plain": [
       "(4.056033134460449, 320)"
      ]
     },
     "execution_count": null,
     "metadata": {},
     "output_type": "execute_result"
    }
   ],
   "source": [
    "# |eval: false\n",
    "benchmark(model, n_batches=10)"
   ]
  },
  {
   "cell_type": "code",
   "execution_count": null,
   "metadata": {},
   "outputs": [],
   "source": [
    "#| hide\n",
    "import nbdev; nbdev.nbdev_export()"
   ]
  }
 ],
 "metadata": {
  "kernelspec": {
   "display_name": "Python 3.9.13 ('torch')",
   "language": "python",
   "name": "python3"
  }
 },
 "nbformat": 4,
 "nbformat_minor": 4
}
