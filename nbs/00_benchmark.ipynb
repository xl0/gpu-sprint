{
 "cells": [
  {
   "cell_type": "markdown",
   "metadata": {},
   "source": [
    "# Benchmark\n",
    "\n",
    "> Deep Learning GPU benchmark\n",
    "\n"
   ]
  },
  {
   "cell_type": "markdown",
   "metadata": {},
   "source": [
    "Run a standard PyTorch training loop on an image classifier model of your choice with specified batch size and FP16/FP32. The result is the measure of throughput - number of trainig samples per second. It can be synced to [Wights & Biases](https://wandb.ai/xl0/ready-steady-go). See more in [CLI](cli.html)\n",
    "\n",
    "> Note: The data never leaves the GPU, and the throughput should be mostly independent of the rest of the system, at least for larger batch sizes."
   ]
  },
  {
   "cell_type": "code",
   "execution_count": null,
   "metadata": {},
   "outputs": [],
   "source": [
    "#| default_exp benchmark"
   ]
  },
  {
   "cell_type": "code",
   "execution_count": null,
   "metadata": {},
   "outputs": [],
   "source": [
    "#| hide\n",
    "from nbdev.showdoc import *"
   ]
  },
  {
   "cell_type": "code",
   "execution_count": null,
   "metadata": {},
   "outputs": [],
   "source": [
    "# |export\n",
    "# |hide\n",
    "import os\n",
    "import time\n",
    "from itertools import count\n",
    "import torch\n",
    "from torch import nn\n",
    "from torch.nn import functional as F\n",
    "from torch.cuda.amp.autocast_mode import autocast\n",
    "\n",
    "import timm\n",
    "from tqdm.auto import tqdm"
   ]
  },
  {
   "cell_type": "code",
   "execution_count": null,
   "metadata": {},
   "outputs": [],
   "source": [
    "# |exports\n",
    "\n",
    "def benchmark(model: nn.Module, # Model to run\n",
    "                bs: int =32,    # Batch size\n",
    "                n_batches: int =None,  # Number of batches to run. `seconds` must be None\n",
    "                n_seconds: int =None,  # Number of seconds to run. `n_batches` must be None\n",
    "                fp16: int =False,      # Use Automatic Mixed Precision\n",
    "                size: int=224,         # Mock-train on this size \"images\"\n",
    "                dev: torch.device=torch.device(\"cuda:0\"),): # Device to run on\n",
    "    \"\"\"Mock-train the model on random noise input.\"\"\"\n",
    "\n",
    "    # There can be only one\n",
    "    assert not n_batches or not n_seconds\n",
    "    assert n_batches or n_seconds\n",
    "\n",
    "\n",
    "    torch.backends.cudnn.benchmark=True\n",
    "    assert torch.backends.cudnn.is_available()\n",
    "\n",
    "    model.to(dev)\n",
    "    optim = torch.optim.SGD(model.parameters(), lr=0.00001, weight_decay=0.00005, momentum=0.9)\n",
    "\n",
    "    state = { k : v.cpu() for k,v in model.state_dict().items() }\n",
    "\n",
    "\n",
    "    X = torch.randn((bs, 3, size, size), device=dev)\n",
    "    y = torch.randint(0, 999, (bs,), device=dev)\n",
    "\n",
    "    if n_batches:\n",
    "        pbar = tqdm(total=n_batches, unit=\"Batch\")\n",
    "    else:\n",
    "        pbar = tqdm(total=n_seconds,\n",
    "            bar_format=\"{l_bar}{bar}| {n:.1f}/{total} s [{elapsed}<{remaining} {postfix}]\")\n",
    "    \n",
    "    start_time = last_time = 0\n",
    "    for c in count():\n",
    "\n",
    "        model.load_state_dict(state)\n",
    "\n",
    "        with autocast(enabled=fp16):\n",
    "            yhat = model(X)\n",
    "            loss = F.cross_entropy(yhat, y)\n",
    "\n",
    "        loss.backward()\n",
    "        optim.step()\n",
    "\n",
    "        tt=time.time()\n",
    "        optim.zero_grad(set_to_none=True)\n",
    "\n",
    "        if not start_time:\n",
    "            last_time = start_time = tt\n",
    "        else:\n",
    "            if n_batches:\n",
    "                pbar.update()\n",
    "                # Note: c starts with 0, but we discard the first iteration\n",
    "                if c == n_batches:\n",
    "                    break\n",
    "            else:\n",
    "                iter_time =  tt - last_time\n",
    "                run_time = tt - start_time\n",
    "                pbar.update(iter_time)\n",
    "                if run_time >= n_seconds:\n",
    "                    break\n",
    "                last_time = tt\n",
    "\n",
    "    pbar.close()\n",
    "\n",
    "    return ((time.time() - start_time), c*bs)\n"
   ]
  },
  {
   "cell_type": "code",
   "execution_count": null,
   "metadata": {},
   "outputs": [],
   "source": [
    "# |hide\n",
    "# |eval: false\n",
    "\n",
    "def hammer_transfer(n_iter = None,\n",
    "        n_seconds=100,\n",
    "        buffer_sz=(1024, 1024, 1024),\n",
    "        dev = torch.device(\"cuda:0\")):\n",
    "\n",
    "    X = torch.randn(buffer_sz)\n",
    "\n",
    "    X *= 2\n",
    "    X /= 2 \n",
    "\n",
    "\n",
    "    if n_iter:\n",
    "        pbar = tqdm(total=n_iter, unit=\"Iter\")\n",
    "    else:\n",
    "        pbar = tqdm(total=n_seconds,\n",
    "            bar_format=\"{l_bar}{bar}| {n:.1f}/{total} s [{elapsed}<{remaining} {postfix}]\")\n",
    "\n",
    "    last_time = start_time = time.time()\n",
    "    for c in count():\n",
    "        X1 = X.to(dev)\n",
    "\n",
    "        X1 *= 2\n",
    "        X1 /= 2\n",
    "\n",
    "        #X1[0,0,0] = 1\n",
    "\n",
    "        X1 = X1.cpu()\n",
    "\n",
    "        if not X1.eq(X).all():\n",
    "            pbar.write(\"Your GPU might be faulty\")\n",
    "\n",
    "\n",
    "        curr_time = time.time()      \n",
    "\n",
    "        if n_iter:\n",
    "            pbar.update()\n",
    "            if c > n_iter: break\n",
    "        else:\n",
    "            pbar.update(curr_time - last_time)\n",
    "            if curr_time - start_time > n_seconds: break\n",
    "        \n",
    "        last_time = curr_time\n",
    "\n",
    "    pbar.close()\n"
   ]
  },
  {
   "cell_type": "code",
   "execution_count": null,
   "metadata": {},
   "outputs": [],
   "source": [
    "# |hide\n",
    "# |eval: false\n",
    "\n",
    "def compare_params(p1, p2):\n",
    "    return torch.cat([ pt1.eq(pt2).all().unsqueeze(-1) for pt1, pt2 in zip(p1, p2)])\n",
    "\n",
    "\n",
    "def hammer_gpu(model: nn.Module,           # Model to run\n",
    "                bs: int =32,           # Batch size\n",
    "                n_batches: int =None,  # Number of batches to run. `seconds` must be None\n",
    "                n_seconds: int =None,  # Number of seconds to run. `n_batches` must be None\n",
    "                fp16: int =False,      # Use Automatic Mixed Precision\n",
    "                size: int=224,         # Mock-train on this size \"images\"\n",
    "                dev: torch.device=torch.device(\"cuda:0\"),): # Device to run on\n",
    "    \"\"\"Mock-train the model on random noise input.\"\"\"\n",
    "\n",
    "    os.environ[\"CUBLAS_WORKSPACE_CONFIG\"]=\":4096:8\"\n",
    "    torch.use_deterministic_algorithms(True)\n",
    "\n",
    "    # There can be only one\n",
    "    assert not n_batches or not n_seconds\n",
    "    assert n_batches or n_seconds\n",
    "\n",
    "    torch.backends.cudnn.benchmark=True\n",
    "    assert torch.backends.cudnn.is_available()\n",
    "\n",
    "    model.to(dev)\n",
    "    optim = torch.optim.SGD(model.parameters(), lr=0.1, weight_decay=0.005, momentum=0.)\n",
    "\n",
    "    state = { k : v.clone() for k,v in model.state_dict().items() }\n",
    "\n",
    "    X = torch.randn((bs, 3, size, size), device=dev)\n",
    "    y = torch.randint(0, 999, (bs,), device=dev)\n",
    "\n",
    "    if n_batches:\n",
    "        pbar = tqdm(total=n_batches, unit=\"Batch\")\n",
    "    else:\n",
    "        pbar = tqdm(total=n_seconds,\n",
    "            bar_format=\"{l_bar}{bar}| {n:.1f}/{total} s [{elapsed}<{remaining} {postfix}]\")\n",
    "    \n",
    "    start_time = last_time = 0\n",
    "    for c in count():\n",
    "\n",
    "        model.load_state_dict(state)\n",
    "\n",
    "        with autocast(enabled=fp16):\n",
    "            yhat = model(X)\n",
    "            loss = F.cross_entropy(yhat, y)\n",
    "\n",
    "        loss.backward()\n",
    "        optim.step()\n",
    "\n",
    "        if not c:\n",
    "            p1 = [ p.clone() for p in model.parameters() ]\n",
    "            # Note: we ignore the first batch.\n",
    "            last_time = start_time = tt\n",
    "        else:\n",
    "            pn = [ p.detach() for p in model.parameters() ]\n",
    "            if not compare_params(p1, pn).all():\n",
    "                pbar.write(\"Your GPU might be failty!\")\n",
    "\n",
    "        tt=time.time()\n",
    "        optim.zero_grad(set_to_none=True)\n",
    "\n",
    "        if n_batches:\n",
    "            if c != 0:\n",
    "                pbar.update()\n",
    "                # Note: c starts with 0, but we discard the first iteration\n",
    "                if c == n_batches:\n",
    "                    break\n",
    "        else:\n",
    "            if last_time:\n",
    "                iter_time =  tt - last_time\n",
    "                run_time = tt - start_time\n",
    "                pbar.update(iter_time)\n",
    "                if run_time >= n_seconds:\n",
    "                    break\n",
    "                last_time = tt\n",
    "    pbar.close()\n",
    "\n",
    "    return ((time.time() - start_time), c*bs)\n"
   ]
  },
  {
   "cell_type": "code",
   "execution_count": null,
   "metadata": {},
   "outputs": [
    {
     "data": {
      "application/vnd.jupyter.widget-view+json": {
       "model_id": "64b164cf27824650a1c0f0810c5172fa",
       "version_major": 2,
       "version_minor": 0
      },
      "text/plain": [
       "  0%|          | 0.0/10 s [00:00<? ]"
      ]
     },
     "metadata": {},
     "output_type": "display_data"
    },
    {
     "data": {
      "text/plain": [
       "(10.038218975067139, 1888)"
      ]
     },
     "execution_count": null,
     "metadata": {},
     "output_type": "execute_result"
    }
   ],
   "source": [
    "# |eval: false\n",
    "model = timm.create_model(\"vgg11\", pretrained=False)\n",
    "benchmark(model, n_seconds=10)"
   ]
  },
  {
   "cell_type": "code",
   "execution_count": null,
   "metadata": {},
   "outputs": [
    {
     "data": {
      "application/vnd.jupyter.widget-view+json": {
       "model_id": "64b2cc4be2f5482b9be1b8b1741a0056",
       "version_major": 2,
       "version_minor": 0
      },
      "text/plain": [
       "  0%|          | 0/10 [00:00<?, ?Batch/s]"
      ]
     },
     "metadata": {},
     "output_type": "display_data"
    },
    {
     "data": {
      "text/plain": [
       "(1.6976494789123535, 320)"
      ]
     },
     "execution_count": null,
     "metadata": {},
     "output_type": "execute_result"
    }
   ],
   "source": [
    "# |eval: false\n",
    "benchmark(model, n_batches=10)"
   ]
  },
  {
   "cell_type": "code",
   "execution_count": null,
   "metadata": {},
   "outputs": [],
   "source": [
    "#| hide\n",
    "import nbdev; nbdev.nbdev_export()"
   ]
  }
 ],
 "metadata": {
  "kernelspec": {
   "display_name": "Python 3.10.6 ('torch')",
   "language": "python",
   "name": "python3"
  }
 },
 "nbformat": 4,
 "nbformat_minor": 4
}
