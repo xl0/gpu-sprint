{
 "cells": [
  {
   "cell_type": "markdown",
   "metadata": {},
   "source": [
    "# Benchmark\n"
   ]
  },
  {
   "cell_type": "code",
   "execution_count": null,
   "metadata": {},
   "outputs": [],
   "source": [
    "#| default_exp benchmark"
   ]
  },
  {
   "cell_type": "code",
   "execution_count": null,
   "metadata": {},
   "outputs": [],
   "source": [
    "#| hide\n",
    "from nbdev.showdoc import *"
   ]
  },
  {
   "cell_type": "code",
   "execution_count": null,
   "metadata": {},
   "outputs": [],
   "source": [
    "# |export\n",
    "\n",
    "import time\n",
    "\n",
    "from itertools import count\n",
    "import torch\n",
    "from torch import nn\n",
    "from torch.nn import functional as F\n",
    "from torch.cuda.amp.autocast_mode import autocast\n",
    "\n",
    "\n",
    "#import timm\n",
    "from tqdm.auto import tqdm\n",
    "#import wandb"
   ]
  },
  {
   "cell_type": "code",
   "execution_count": null,
   "metadata": {},
   "outputs": [],
   "source": [
    "# |export\n",
    "def benchmark(model: nn.Module, # Model to run\n",
    "                bs: int =32,    # Batch size\n",
    "                n_batches: int|None =None,  # Number of batches to run. `seconds` must be None\n",
    "                n_seconds: int|None =None,  # Number of seconds to run. `n_batches` must be None\n",
    "                fp16: int =False,           # Use Automatic Mixed Precision\n",
    "                size: int=224,              # Mock-train on this size \"images\"\n",
    "                dev: torch.device=torch.device(\"cuda:0\"),): # Device to run on\n",
    "\n",
    "    \"\"\"Mock-train the model on random noise input.\"\"\"\n",
    "\n",
    "    # There can be only one\n",
    "    assert not n_batches or not n_seconds\n",
    "    assert n_batches or n_seconds\n",
    "\n",
    "    torch.backends.cudnn.benchmark=True\n",
    "    assert torch.backends.cudnn.is_available()\n",
    "\n",
    "    model.to(dev)\n",
    "    optim = torch.optim.Adam(model.parameters(), lr=0.00001, weight_decay=0.00005)\n",
    "\n",
    "    X = torch.randn((bs, 3, size, size), device=dev)\n",
    "\n",
    "    # Assume the head is for ImageNet with 1000 catagories.\n",
    "    y = torch.randint(0, 999, (bs,), device=dev)\n",
    "\n",
    "    # Warm-up to run cudnn.benchmark first.\n",
    "    yhat = model(X)\n",
    "\n",
    "    loss = F.cross_entropy(yhat, y)\n",
    "    loss.backward()\n",
    "\n",
    "    optim.step()\n",
    "    optim.zero_grad(set_to_none=True)\n",
    "\n",
    "    if n_batches:\n",
    "        pbar = tqdm(total=n_batches, unit=\"Batch\")\n",
    "    else:\n",
    "        pbar = tqdm(total=n_seconds,\n",
    "            bar_format=\"{l_bar}{bar}| {n:.1f}/{total} s [{elapsed}<{remaining} {postfix}]\")\n",
    "\n",
    "    start_time = time.time()\n",
    "    last_time = start_time\n",
    "    for c in count():\n",
    "        with autocast(enabled=fp16):\n",
    "            yhat = model(X)\n",
    "            loss = F.cross_entropy(yhat, y)\n",
    "\n",
    "        loss.backward()\n",
    "        optim.step()\n",
    "        optim.zero_grad(set_to_none=True)\n",
    "\n",
    "        if n_batches:\n",
    "            pbar.update()\n",
    "            if c+1 == n_batches:\n",
    "                break\n",
    "\n",
    "        else:\n",
    "            now = time.time()\n",
    "            iter_time =  now - last_time\n",
    "            run_time = now - start_time\n",
    "            pbar.update(iter_time)\n",
    "            if run_time >= n_seconds:\n",
    "                break\n",
    "            last_time = now\n",
    "    pbar.close()\n",
    "\n",
    "    return ((time.time() - start_time), c*bs)\n"
   ]
  },
  {
   "cell_type": "code",
   "execution_count": null,
   "metadata": {},
   "outputs": [
    {
     "data": {
      "application/vnd.jupyter.widget-view+json": {
       "model_id": "6c98950cb4964576a987e4345bb1882e",
       "version_major": 2,
       "version_minor": 0
      },
      "text/plain": [
       "  0%|          | 0.0/10 s [00:00<? ]"
      ]
     },
     "metadata": {},
     "output_type": "display_data"
    },
    {
     "data": {
      "text/plain": [
       "(10.188517570495605, 768)"
      ]
     },
     "execution_count": null,
     "metadata": {},
     "output_type": "execute_result"
    }
   ],
   "source": [
    "# |eval: false\n",
    "model = timm.create_model(\"resnet50\", pretrained=False)\n",
    "benchmark(model, n_seconds=10)"
   ]
  },
  {
   "cell_type": "code",
   "execution_count": null,
   "metadata": {},
   "outputs": [
    {
     "data": {
      "application/vnd.jupyter.widget-view+json": {
       "model_id": "293730d14774443c87669851b222a263",
       "version_major": 2,
       "version_minor": 0
      },
      "text/plain": [
       "  0%|          | 0/10 [00:00<?, ?Batch/s]"
      ]
     },
     "metadata": {},
     "output_type": "display_data"
    },
    {
     "data": {
      "text/plain": [
       "(4.067640781402588, 288)"
      ]
     },
     "execution_count": null,
     "metadata": {},
     "output_type": "execute_result"
    }
   ],
   "source": [
    "# |eval: false\n",
    "benchmark(model, n_batches=10)"
   ]
  },
  {
   "cell_type": "code",
   "execution_count": null,
   "metadata": {},
   "outputs": [],
   "source": []
  },
  {
   "cell_type": "code",
   "execution_count": null,
   "metadata": {},
   "outputs": [
    {
     "name": "stderr",
     "output_type": "stream",
     "text": [
      "Failed to detect the name of this notebook, you can set it manually with the WANDB_NOTEBOOK_NAME environment variable to enable code saving.\n"
     ]
    },
    {
     "name": "stdout",
     "output_type": "stream",
     "text": [
      "device_name: NVIDIA GeForce GTX 1060 6GB\n",
      "device_capability: (6, 1)\n",
      "pytorch: 1.12.1.post201\n",
      "cuda: 11.2\n",
      "platform: Linux-5.15.0-48-generic-x86_64-with-glibc2.35\n",
      "model: resnet50\n",
      "fp16: False\n",
      "bs: 32\n",
      "n_seconds: 20\n",
      "n_batches: None\n"
     ]
    },
    {
     "name": "stderr",
     "output_type": "stream",
     "text": [
      "\u001b[34m\u001b[1mwandb\u001b[0m: Currently logged in as: \u001b[33mxl0\u001b[0m. Use \u001b[1m`wandb login --relogin`\u001b[0m to force relogin\n"
     ]
    },
    {
     "data": {
      "text/html": [
       "Tracking run with wandb version 0.13.4"
      ],
      "text/plain": [
       "<IPython.core.display.HTML object>"
      ]
     },
     "metadata": {},
     "output_type": "display_data"
    },
    {
     "data": {
      "text/html": [
       "Run data is saved locally in <code>/ssd/xl0/work/projects/gpu-sprint/nbs/wandb/run-20221011_211548-1ub6l7oo</code>"
      ],
      "text/plain": [
       "<IPython.core.display.HTML object>"
      ]
     },
     "metadata": {},
     "output_type": "display_data"
    },
    {
     "data": {
      "text/html": [
       "Syncing run <strong><a href=\"https://wandb.ai/xl0/hbfs/runs/1ub6l7oo\" target=\"_blank\">hbfs</a></strong> to <a href=\"https://wandb.ai/xl0/hbfs\" target=\"_blank\">Weights & Biases</a> (<a href=\"https://wandb.me/run\" target=\"_blank\">docs</a>)<br/>"
      ],
      "text/plain": [
       "<IPython.core.display.HTML object>"
      ]
     },
     "metadata": {},
     "output_type": "display_data"
    },
    {
     "data": {
      "application/vnd.jupyter.widget-view+json": {
       "model_id": "28c81cd3e15b40f7911aaf712fc31e1d",
       "version_major": 2,
       "version_minor": 0
      },
      "text/plain": [
       "  0%|          | 0.0/20 s [00:00<? ]"
      ]
     },
     "metadata": {},
     "output_type": "display_data"
    },
    {
     "name": "stdout",
     "output_type": "stream",
     "text": [
      "duration: 20.015317916870117\n",
      "n_items: 1536\n",
      "throughput: 76.74122421534791\n"
     ]
    },
    {
     "data": {
      "text/html": [
       "Waiting for W&B process to finish... <strong style=\"color:green\">(success).</strong>"
      ],
      "text/plain": [
       "<IPython.core.display.HTML object>"
      ]
     },
     "metadata": {},
     "output_type": "display_data"
    },
    {
     "data": {
      "text/html": [
       "<style>\n",
       "    table.wandb td:nth-child(1) { padding: 0 10px; text-align: left ; width: auto;} td:nth-child(2) {text-align: left ; width: 100%}\n",
       "    .wandb-row { display: flex; flex-direction: row; flex-wrap: wrap; justify-content: flex-start; width: 100% }\n",
       "    .wandb-col { display: flex; flex-direction: column; flex-basis: 100%; flex: 1; padding: 10px; }\n",
       "    </style>\n",
       "<div class=\"wandb-row\"><div class=\"wandb-col\"><h3>Run history:</h3><br/><table class=\"wandb\"><tr><td>bs</td><td>▁</td></tr><tr><td>duration</td><td>▁</td></tr><tr><td>fp16</td><td>▁</td></tr><tr><td>n_items</td><td>▁</td></tr><tr><td>n_seconds</td><td>▁</td></tr><tr><td>throughput</td><td>▁</td></tr></table><br/></div><div class=\"wandb-col\"><h3>Run summary:</h3><br/><table class=\"wandb\"><tr><td>bs</td><td>32</td></tr><tr><td>cuda</td><td>11.2</td></tr><tr><td>device_capability</td><td>(6, 1)</td></tr><tr><td>device_name</td><td>NVIDIA GeForce GTX 1...</td></tr><tr><td>duration</td><td>20.01532</td></tr><tr><td>fp16</td><td>False</td></tr><tr><td>model</td><td>resnet50</td></tr><tr><td>n_items</td><td>1536</td></tr><tr><td>n_seconds</td><td>20</td></tr><tr><td>platform</td><td>Linux-5.15.0-48-gene...</td></tr><tr><td>pytorch</td><td>1.12.1.post201</td></tr><tr><td>throughput</td><td>76.74122</td></tr></table><br/></div></div>"
      ],
      "text/plain": [
       "<IPython.core.display.HTML object>"
      ]
     },
     "metadata": {},
     "output_type": "display_data"
    },
    {
     "data": {
      "text/html": [
       "Synced <strong style=\"color:#cdcd00\">hbfs</strong>: <a href=\"https://wandb.ai/xl0/hbfs/runs/1ub6l7oo\" target=\"_blank\">https://wandb.ai/xl0/hbfs/runs/1ub6l7oo</a><br/>Synced 6 W&B file(s), 0 media file(s), 0 artifact file(s) and 0 other file(s)"
      ],
      "text/plain": [
       "<IPython.core.display.HTML object>"
      ]
     },
     "metadata": {},
     "output_type": "display_data"
    },
    {
     "data": {
      "text/html": [
       "Find logs at: <code>./wandb/run-20221011_211548-1ub6l7oo/logs</code>"
      ],
      "text/plain": [
       "<IPython.core.display.HTML object>"
      ]
     },
     "metadata": {},
     "output_type": "display_data"
    }
   ],
   "source": []
  },
  {
   "cell_type": "code",
   "execution_count": null,
   "metadata": {},
   "outputs": [],
   "source": [
    "#| hide\n",
    "import nbdev; nbdev.nbdev_export()"
   ]
  }
 ],
 "metadata": {
  "kernelspec": {
   "display_name": "Python 3.10.6 ('torch')",
   "language": "python",
   "name": "python3"
  }
 },
 "nbformat": 4,
 "nbformat_minor": 4
}
