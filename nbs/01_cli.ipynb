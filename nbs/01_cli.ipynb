{
 "cells": [
  {
   "cell_type": "markdown",
   "metadata": {},
   "source": [
    "# CLI"
   ]
  },
  {
   "cell_type": "code",
   "execution_count": null,
   "metadata": {},
   "outputs": [],
   "source": [
    "#| default_exp cli"
   ]
  },
  {
   "cell_type": "code",
   "execution_count": null,
   "metadata": {},
   "outputs": [],
   "source": [
    "#| hide\n",
    "from nbdev.showdoc import *"
   ]
  },
  {
   "cell_type": "code",
   "execution_count": null,
   "metadata": {},
   "outputs": [],
   "source": [
    "# |hide\n",
    "import platform\n",
    "\n",
    "import torch\n",
    "import timm\n",
    "import wandb\n",
    "from fastcore.script import call_parse\n",
    "\n",
    "from gpu_sprint.benchmark import *"
   ]
  },
  {
   "cell_type": "code",
   "execution_count": null,
   "metadata": {},
   "outputs": [],
   "source": [
    "# |export\n",
    "@call_parse\n",
    "def cli(wnb: str =\"disabled\",       # W&B mode. Accepted values: online, offline, disabled.\n",
    "        wnb_run: str =None,    # W&B run name (auto-generate if None)\n",
    "        wnb_project: str =None,\n",
    "        wnb_entity: str =None,\n",
    "        model: str =\"resnet50\",     # TIMM Model name\n",
    "        bs: int =32,                #Batch size\n",
    "        size: int =224,             # (fake) image size\n",
    "        fp16: bool =False,\n",
    "        n_batches = 0,              # Run for N batches. Mututally exclusive with `n_seconds`\n",
    "        n_seconds = 0,              # Run for N seconds. Mutually exclusive with `n_batches`\n",
    "    ):\n",
    "\n",
    "    if not n_batches and not n_seconds:\n",
    "        print(\"Either `n_batches` or `n_seconds` must be non-zero\")\n",
    "        exit(1)\n",
    "    if n_batches and n_seconds:\n",
    "        print(f\"`n_batches` and `n_seconds` are mutually explusive. {n_batches=}, {n_seconds=}\")\n",
    "        exit(1)\n",
    "\n",
    "    assert wnb in [\"online\", \"offline\", \"disabled\"]\n",
    "    \n",
    "    stats = {\n",
    "        \"device_name\" : torch.cuda.get_device_name(),\n",
    "        \"device_capability\": str(torch.cuda.get_device_capability()),\n",
    "        \"pytorch\": torch.version.__version__,\n",
    "        \"cuda\": torch.version.cuda,\n",
    "        \"platform\": platform.platform(),\n",
    "        \"model\": model,\n",
    "        \"fp16\": fp16,\n",
    "        \"bs\": bs,\n",
    "        \"n_seconds\": n_seconds if n_seconds else None,\n",
    "        \"n_batches\": n_batches if n_batches else None,\n",
    "    }\n",
    "\n",
    "    print(\"\\n\".join([ f\"{k}: {v}\" for k, v in stats.items() ]))\n",
    "\n",
    "    run = wandb.init(mode=wnb, project=wnb_project, entity=wnb_entity, name=wnb_run)\n",
    "\n",
    "    with run:\n",
    "        wandb.log(stats, step=0)\n",
    "\n",
    "        model = timm.create_model(model, pretrained=False)\n",
    "        duration, n_items = benchmark(model, bs=bs, size=size, fp16=fp16, n_batches=n_batches, n_seconds=n_seconds)\n",
    "        summary = {\n",
    "            \"duration\": duration,\n",
    "            \"n_items\": n_items,\n",
    "            \"throughput\": n_items / duration,\n",
    "        }\n",
    "\n",
    "        print(\"\\n\".join([ f\"{k}: {v}\" for k, v in summary.items() ]))\n",
    "\n",
    "        wandb.log(summary, step=0)\n",
    "\n"
   ]
  },
  {
   "cell_type": "code",
   "execution_count": null,
   "metadata": {},
   "outputs": [],
   "source": [
    "# |eval: false\n",
    "# |hide\n",
    "cli(wnb = \"disabled\",\n",
    "    wnb_run=\"hbfs\",\n",
    "    wnb_project=\"hbfs\",\n",
    "    model=\"resnet50\",\n",
    "    bs=32,\n",
    "    size=224,\n",
    "    fp16=False,\n",
    "    n_batches = 0,\n",
    "    n_seconds = 20)"
   ]
  },
  {
   "cell_type": "code",
   "execution_count": null,
   "metadata": {},
   "outputs": [],
   "source": [
    "#| hide\n",
    "import nbdev; nbdev.nbdev_export()"
   ]
  }
 ],
 "metadata": {
  "kernelspec": {
   "display_name": "Python 3.10.6 ('torch')",
   "language": "python",
   "name": "python3"
  }
 },
 "nbformat": 4,
 "nbformat_minor": 2
}
