{
 "cells": [
  {
   "cell_type": "markdown",
   "metadata": {},
   "source": [
    "# CLI"
   ]
  },
  {
   "cell_type": "code",
   "execution_count": 1,
   "metadata": {
    "vscode": {
     "languageId": "python"
    }
   },
   "outputs": [],
   "source": [
    "#| default_exp cli"
   ]
  },
  {
   "cell_type": "code",
   "execution_count": 2,
   "metadata": {
    "vscode": {
     "languageId": "python"
    }
   },
   "outputs": [],
   "source": [
    "#| hide\n",
    "from nbdev.showdoc import *\n"
   ]
  },
  {
   "cell_type": "code",
   "execution_count": 3,
   "metadata": {
    "vscode": {
     "languageId": "python"
    }
   },
   "outputs": [],
   "source": [
    "# |hide\n",
    "# |export\n",
    "import platform\n",
    "\n",
    "import torch\n",
    "import timm\n",
    "import wandb\n",
    "\n",
    "from fastcore.script import *\n",
    "\n",
    "from ready_steady_go.benchmark import *"
   ]
  },
  {
   "cell_type": "code",
   "execution_count": 4,
   "metadata": {
    "vscode": {
     "languageId": "python"
    }
   },
   "outputs": [],
   "source": [
    "# |export\n",
    "@call_parse\n",
    "def cli(wnb: str =\"disabled\",       # W&B mode. Accepted values: online, offline, disabled.\n",
    "        wnb_run: str =None,    # W&B run name (auto-generate if None)\n",
    "        wnb_project: str =None,\n",
    "        wnb_entity: str =None,\n",
    "        run_number = 1,             # A unique number to keep track over repeat runs\n",
    "        model: str =\"resnet50\",     # TIMM Model name\n",
    "        bs: int =32,                #Batch size\n",
    "        size: int =224,             # (fake) image size\n",
    "        fp16: bool =False,\n",
    "        n_batches = 0,              # Run for N batches. Mututally exclusive with `n_seconds`\n",
    "        n_seconds = 0,              # Run for N seconds. Mutually exclusive with `n_batches`\n",
    "    ):\n",
    "\n",
    "    if not n_batches and not n_seconds:\n",
    "        print(\"Either `n_batches` or `n_seconds` must be non-zero\")\n",
    "        exit(1)\n",
    "    if n_batches and n_seconds:\n",
    "        print(f\"`n_batches` and `n_seconds` are mutually explusive. {n_batches=}, {n_seconds=}\")\n",
    "        exit(1)\n",
    "\n",
    "    assert wnb in [\"online\", \"offline\", \"disabled\"]\n",
    "    \n",
    "    stats = {\n",
    "        \"device_name\" : torch.cuda.get_device_name(),\n",
    "        \"device_capability\": str(torch.cuda.get_device_capability()),\n",
    "        \"pytorch\": torch.version.__version__,\n",
    "        \"cuda\": torch.version.cuda,\n",
    "        \"platform\": platform.platform(),\n",
    "        \"model\": model,\n",
    "        \"fp16\": fp16,\n",
    "        \"bs\": bs,\n",
    "        \"n_seconds\": n_seconds if n_seconds else None,\n",
    "        \"n_batches\": n_batches if n_batches else None,\n",
    "        \"run_number\": run_number, \n",
    "        \"gpu_mem\" : torch.cuda.get_device_properties(0).total_memory,\n",
    "    }\n",
    "\n",
    "    print(\"\\n\".join([ f\"{k}: {v}\" for k, v in stats.items() ]))\n",
    "\n",
    "    with wandb.init(mode=wnb, project=wnb_project, entity=wnb_entity, name=wnb_run) as run:\n",
    "        run.log(stats, step=0, commit=True)\n",
    "\n",
    "        model = timm.create_model(model, pretrained=False)\n",
    "        duration, n_items = benchmark(model, bs=bs, size=size, fp16=fp16, n_batches=n_batches, n_seconds=n_seconds)\n",
    "        summary = {\n",
    "            \"duration\": duration,\n",
    "            \"n_items\": n_items,\n",
    "            \"throughput\": n_items / duration,\n",
    "        }\n",
    "\n",
    "        print(\"\\n\".join([ f\"{k}: {v}\" for k, v in summary.items() ]))\n",
    "\n",
    "        run.log(summary, step=0, commit=True)\n",
    "\n"
   ]
  },
  {
   "cell_type": "code",
   "execution_count": 5,
   "metadata": {
    "vscode": {
     "languageId": "python"
    }
   },
   "outputs": [
    {
     "name": "stderr",
     "output_type": "stream",
     "text": [
      "Failed to detect the name of this notebook, you can set it manually with the WANDB_NOTEBOOK_NAME environment variable to enable code saving.\n"
     ]
    },
    {
     "name": "stdout",
     "output_type": "stream",
     "text": [
      "device_name: NVIDIA GeForce GTX 1060 6GB\n",
      "device_capability: (6, 1)\n",
      "pytorch: 1.12.1\n",
      "cuda: 11.6\n",
      "platform: Linux-5.15.0-48-generic-x86_64-with-glibc2.35\n",
      "model: resnet50\n",
      "fp16: False\n",
      "bs: 32\n",
      "n_seconds: 20\n",
      "n_batches: None\n",
      "run_number: 1\n",
      "gpu_mem: 6373638144\n"
     ]
    },
    {
     "data": {
      "application/vnd.jupyter.widget-view+json": {
       "model_id": "358f100afa5c41959bd5eeeda725723a",
       "version_major": 2,
       "version_minor": 0
      },
      "text/plain": [
       "  0%|          | 0.0/20 s [00:00<? ]"
      ]
     },
     "metadata": {},
     "output_type": "display_data"
    },
    {
     "name": "stdout",
     "output_type": "stream",
     "text": [
      "duration: 20.110930919647217\n",
      "n_items: 1536\n",
      "throughput: 76.37637492451515\n"
     ]
    }
   ],
   "source": [
    "# |eval: false\n",
    "# |hide\n",
    "cli(wnb = \"disabled\",\n",
    "    model=\"resnet50\",\n",
    "    bs=32,\n",
    "    size=224,\n",
    "    fp16=False,\n",
    "    n_batches = 0,\n",
    "    n_seconds = 20,\n",
    "    run_number=1)"
   ]
  },
  {
   "cell_type": "markdown",
   "metadata": {},
   "source": [
    "## How to use"
   ]
  },
  {
   "cell_type": "code",
   "execution_count": 6,
   "metadata": {
    "vscode": {
     "languageId": "python"
    }
   },
   "outputs": [
    {
     "name": "stdout",
     "output_type": "stream",
     "text": [
      "usage: ready-steady-go [-h] [--wnb WNB] [--wnb_run WNB_RUN]\n",
      "                       [--wnb_project WNB_PROJECT] [--wnb_entity WNB_ENTITY]\n",
      "                       [--run_number RUN_NUMBER] [--model MODEL] [--bs BS]\n",
      "                       [--size SIZE] [--fp16] [--n_batches N_BATCHES]\n",
      "                       [--n_seconds N_SECONDS]\n",
      "\n",
      "optional arguments:\n",
      "  -h, --help                 show this help message and exit\n",
      "  --wnb WNB                  W&B mode. Accepted values: online, offline,\n",
      "                             disabled. (default: disabled)\n",
      "  --wnb_run WNB_RUN          W&B run name (auto-generate if None)\n",
      "  --wnb_project WNB_PROJECT\n",
      "  --wnb_entity WNB_ENTITY\n",
      "  --run_number RUN_NUMBER    A unique number to keep track over repeat runs\n",
      "                             (default: 1)\n",
      "  --model MODEL              TIMM Model name (default: resnet50)\n",
      "  --bs BS                    Batch size (default: 32)\n",
      "  --size SIZE                (fake) image size (default: 224)\n",
      "  --fp16                     (default: False)\n",
      "  --n_batches N_BATCHES      Run for N batches. Mututally exclusive with\n",
      "                             `n_seconds` (default: 0)\n",
      "  --n_seconds N_SECONDS      Run for N seconds. Mutually exclusive with\n",
      "                             `n_batches` (default: 0)\n"
     ]
    }
   ],
   "source": [
    "!ready-steady-go -h"
   ]
  },
  {
   "cell_type": "markdown",
   "metadata": {},
   "source": [
    "To run the benchmark over a range of models and batch sizes, have a look at the `run_all_benahmarks.sh` script:"
   ]
  },
  {
   "cell_type": "code",
   "execution_count": 7,
   "metadata": {
    "vscode": {
     "languageId": "python"
    }
   },
   "outputs": [
    {
     "name": "stdout",
     "output_type": "stream",
     "text": [
      "#!/bin/bash\n",
      "\n",
      "WANDB_MODE=\"online\"\n",
      "WANDB_PROJECT=\"ready-steady-go\"\n",
      "\n",
      "MODELS=\"resnet50 vgg19 swin_s3_base_224\"\n",
      "BATCHES=\"8 16 16 32 64 128 256 512 1024\"\n",
      "\n",
      "N_SECONDS=30\n",
      "\n",
      "#set -x\n",
      "\n",
      "wandb login\n",
      "\n",
      "echo \"Warming up the GPU for 3 minutes...\"\n",
      "gpu-sprint --model=resnet50 --n_seconds=180\n",
      "\n",
      "echo \"Running benchmarks...\"\n",
      "\n",
      "# You can do multiple runs, but in my experience the results barely change between runs.\n",
      "for RUN in 1 #2 3\n",
      "do\n",
      "    for m in $MODELS; do\n",
      "        for fp16 in \" \" \"--fp16\"; do\n",
      "            for bs in $BATCHES; do\n",
      "                ready-steady-go --model=$m $fp16 --bs=$bs --n_seconds=$N_SECONDS --wnb=$WANDB_MODE --wnb_project=$WANDB_PROJECT --run_number=$RUN\n",
      "                if [ $? -ne 0 ]; then\n",
      "                    # We probably hit a batch size the GPU can't handle.\n",
      "                    # No need to try larger batch sizes.\n",
      "                    break\n",
      "                fi\n",
      "            done\n",
      "        done\n",
      "    done\n",
      "done\n",
      "\n",
      "# I had weird data lossed with wandb for some reason.\n",
      "wandb sync --sync-all --include-synced"
     ]
    }
   ],
   "source": [
    "#!hide\n",
    "!cat ../run_all_benchmarks.sh"
   ]
  },
  {
   "cell_type": "code",
   "execution_count": 8,
   "metadata": {
    "vscode": {
     "languageId": "python"
    }
   },
   "outputs": [],
   "source": [
    "#| hide\n",
    "import nbdev; nbdev.nbdev_export()"
   ]
  }
 ],
 "metadata": {
  "kernelspec": {
   "display_name": "Python 3.9.13",
   "language": "python",
   "name": "python3"
  }
 },
 "nbformat": 4,
 "nbformat_minor": 2
}
