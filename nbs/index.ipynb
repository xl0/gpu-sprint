{
 "cells": [
  {
   "cell_type": "code",
   "execution_count": null,
   "metadata": {},
   "outputs": [],
   "source": [
    "#| hide\n",
    "from gpu_sprint.benchmark import *"
   ]
  },
  {
   "cell_type": "markdown",
   "metadata": {},
   "source": [
    "# gpu-sprint\n",
    "\n",
    "> Deep Learning GPU benchmark"
   ]
  },
  {
   "cell_type": "markdown",
   "metadata": {},
   "source": []
  },
  {
   "cell_type": "markdown",
   "metadata": {},
   "source": [
    "## Install"
   ]
  },
  {
   "cell_type": "markdown",
   "metadata": {},
   "source": [
    "```sh\n",
    "pip install gpu_sprint\n",
    "```"
   ]
  },
  {
   "cell_type": "markdown",
   "metadata": {},
   "source": [
    "## How to use"
   ]
  },
  {
   "cell_type": "markdown",
   "metadata": {},
   "source": [
    "The benchmark will attempt to "
   ]
  },
  {
   "cell_type": "code",
   "execution_count": null,
   "metadata": {},
   "outputs": [
    {
     "name": "stdout",
     "output_type": "stream",
     "text": [
      "usage: gpu-sprint [-h] [--wnb WNB] [--wnb_run WNB_RUN]\n",
      "                  [--wnb_project WNB_PROJECT] [--wnb_entity WNB_ENTITY]\n",
      "                  [--model MODEL] [--bs BS] [--size SIZE] [--fp16]\n",
      "                  [--n_batches N_BATCHES] [--n_seconds N_SECONDS]\n",
      "\n",
      "options:\n",
      "  -h, --help                 show this help message and exit\n",
      "  --wnb WNB                  W&B mode. Accepted values: online, offline,\n",
      "                             disabled. (default: disabled)\n",
      "  --wnb_run WNB_RUN          W&B run name (auto-generate if None)\n",
      "  --wnb_project WNB_PROJECT\n",
      "  --wnb_entity WNB_ENTITY\n",
      "  --model MODEL              TIMM Model name (default: resnet50)\n",
      "  --bs BS                    Batch size (default: 32)\n",
      "  --size SIZE                (fake) image size (default: 224)\n",
      "  --fp16                     (default: False)\n",
      "  --n_batches N_BATCHES      Run for N batches. Mututally exclusive with\n",
      "                             `n_seconds` (default: 0)\n",
      "  --n_seconds N_SECONDS      Run for N seconds. Mutually exclusive with\n",
      "                             `n_batches` (default: 0)\n"
     ]
    }
   ],
   "source": [
    "!gpu-sprint -h"
   ]
  },
  {
   "cell_type": "code",
   "execution_count": null,
   "metadata": {},
   "outputs": [],
   "source": []
  }
 ],
 "metadata": {
  "kernelspec": {
   "display_name": "Python 3.10.6 ('torch')",
   "language": "python",
   "name": "python3"
  }
 },
 "nbformat": 4,
 "nbformat_minor": 4
}
